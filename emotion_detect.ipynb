{
 "cells": [
  {
   "cell_type": "code",
   "execution_count": 2,
   "metadata": {},
   "outputs": [],
   "source": [
    "import pandas as pd\n",
    "import matplotlib.pyplot as plt\n",
    "import seaborn as sns\n",
    "from transformers import pipeline,BertForSequenceClassification,BertTokenizerFast\n"
   ]
  },
  {
   "cell_type": "code",
   "execution_count": 4,
   "metadata": {},
   "outputs": [],
   "source": [
    "train_df = pd.read_csv('./dataset/train_preprocess.csv')\n",
    "val_df = pd.read_csv('./dataset/valid_preprocess.csv')\n",
    "test_df = pd.read_csv('./dataset/test_preprocess.csv')"
   ]
  },
  {
   "cell_type": "code",
   "execution_count": 5,
   "metadata": {},
   "outputs": [
    {
     "data": {
      "text/html": [
       "<div>\n",
       "<style scoped>\n",
       "    .dataframe tbody tr th:only-of-type {\n",
       "        vertical-align: middle;\n",
       "    }\n",
       "\n",
       "    .dataframe tbody tr th {\n",
       "        vertical-align: top;\n",
       "    }\n",
       "\n",
       "    .dataframe thead th {\n",
       "        text-align: right;\n",
       "    }\n",
       "</style>\n",
       "<table border=\"1\" class=\"dataframe\">\n",
       "  <thead>\n",
       "    <tr style=\"text-align: right;\">\n",
       "      <th></th>\n",
       "      <th>label</th>\n",
       "      <th>tweet</th>\n",
       "    </tr>\n",
       "  </thead>\n",
       "  <tbody>\n",
       "    <tr>\n",
       "      <th>0</th>\n",
       "      <td>happy</td>\n",
       "      <td>Ini adalah hal yang paling membahagiakan saat ...</td>\n",
       "    </tr>\n",
       "    <tr>\n",
       "      <th>1</th>\n",
       "      <td>anger</td>\n",
       "      <td>[USERNAME] [USERNAME] Dari pertama [USERNAME] ...</td>\n",
       "    </tr>\n",
       "    <tr>\n",
       "      <th>2</th>\n",
       "      <td>fear</td>\n",
       "      <td>yaudah kalo emang belum berani potong rambut p...</td>\n",
       "    </tr>\n",
       "    <tr>\n",
       "      <th>3</th>\n",
       "      <td>fear</td>\n",
       "      <td>Jadi semalam, gw rekap, eh intinya yg gw usaha...</td>\n",
       "    </tr>\n",
       "    <tr>\n",
       "      <th>4</th>\n",
       "      <td>anger</td>\n",
       "      <td>temen2 masa kecil yang turned out being asshol...</td>\n",
       "    </tr>\n",
       "    <tr>\n",
       "      <th>...</th>\n",
       "      <td>...</td>\n",
       "      <td>...</td>\n",
       "    </tr>\n",
       "    <tr>\n",
       "      <th>3516</th>\n",
       "      <td>fear</td>\n",
       "      <td>[USERNAME] [USERNAME] Bcs doi w anak pelayaran...</td>\n",
       "    </tr>\n",
       "    <tr>\n",
       "      <th>3517</th>\n",
       "      <td>anger</td>\n",
       "      <td>Sekali , dua kali , tiga kali , lama2 bosan ju...</td>\n",
       "    </tr>\n",
       "    <tr>\n",
       "      <th>3518</th>\n",
       "      <td>anger</td>\n",
       "      <td>[USERNAME] [USERNAME] [USERNAME] [USERNAME] [U...</td>\n",
       "    </tr>\n",
       "    <tr>\n",
       "      <th>3519</th>\n",
       "      <td>fear</td>\n",
       "      <td>Aku takut tulisan ini terbaca di saat kamu ngg...</td>\n",
       "    </tr>\n",
       "    <tr>\n",
       "      <th>3520</th>\n",
       "      <td>happy</td>\n",
       "      <td>alhamdulilah tmksh tiara u to cantik dart ava oy</td>\n",
       "    </tr>\n",
       "  </tbody>\n",
       "</table>\n",
       "<p>3521 rows × 2 columns</p>\n",
       "</div>"
      ],
      "text/plain": [
       "      label                                              tweet\n",
       "0     happy  Ini adalah hal yang paling membahagiakan saat ...\n",
       "1     anger  [USERNAME] [USERNAME] Dari pertama [USERNAME] ...\n",
       "2      fear  yaudah kalo emang belum berani potong rambut p...\n",
       "3      fear  Jadi semalam, gw rekap, eh intinya yg gw usaha...\n",
       "4     anger  temen2 masa kecil yang turned out being asshol...\n",
       "...     ...                                                ...\n",
       "3516   fear  [USERNAME] [USERNAME] Bcs doi w anak pelayaran...\n",
       "3517  anger  Sekali , dua kali , tiga kali , lama2 bosan ju...\n",
       "3518  anger  [USERNAME] [USERNAME] [USERNAME] [USERNAME] [U...\n",
       "3519   fear  Aku takut tulisan ini terbaca di saat kamu ngg...\n",
       "3520  happy   alhamdulilah tmksh tiara u to cantik dart ava oy\n",
       "\n",
       "[3521 rows x 2 columns]"
      ]
     },
     "execution_count": 5,
     "metadata": {},
     "output_type": "execute_result"
    }
   ],
   "source": [
    "train_df"
   ]
  },
  {
   "cell_type": "code",
   "execution_count": 6,
   "metadata": {},
   "outputs": [],
   "source": [
    "train_df.rename(columns={\"label\": \"category\"},inplace= True)\n",
    "val_df.rename(columns={\"label\": \"category\"},inplace= True)\n",
    "test_df.rename(columns={\"label\": \"category\"},inplace= True)"
   ]
  },
  {
   "cell_type": "code",
   "execution_count": 7,
   "metadata": {},
   "outputs": [
    {
     "data": {
      "text/html": [
       "<div>\n",
       "<style scoped>\n",
       "    .dataframe tbody tr th:only-of-type {\n",
       "        vertical-align: middle;\n",
       "    }\n",
       "\n",
       "    .dataframe tbody tr th {\n",
       "        vertical-align: top;\n",
       "    }\n",
       "\n",
       "    .dataframe thead th {\n",
       "        text-align: right;\n",
       "    }\n",
       "</style>\n",
       "<table border=\"1\" class=\"dataframe\">\n",
       "  <thead>\n",
       "    <tr style=\"text-align: right;\">\n",
       "      <th></th>\n",
       "      <th>category</th>\n",
       "      <th>tweet</th>\n",
       "    </tr>\n",
       "  </thead>\n",
       "  <tbody>\n",
       "    <tr>\n",
       "      <th>0</th>\n",
       "      <td>happy</td>\n",
       "      <td>Ini adalah hal yang paling membahagiakan saat ...</td>\n",
       "    </tr>\n",
       "    <tr>\n",
       "      <th>1</th>\n",
       "      <td>anger</td>\n",
       "      <td>[USERNAME] [USERNAME] Dari pertama [USERNAME] ...</td>\n",
       "    </tr>\n",
       "    <tr>\n",
       "      <th>2</th>\n",
       "      <td>fear</td>\n",
       "      <td>yaudah kalo emang belum berani potong rambut p...</td>\n",
       "    </tr>\n",
       "    <tr>\n",
       "      <th>3</th>\n",
       "      <td>fear</td>\n",
       "      <td>Jadi semalam, gw rekap, eh intinya yg gw usaha...</td>\n",
       "    </tr>\n",
       "    <tr>\n",
       "      <th>4</th>\n",
       "      <td>anger</td>\n",
       "      <td>temen2 masa kecil yang turned out being asshol...</td>\n",
       "    </tr>\n",
       "    <tr>\n",
       "      <th>...</th>\n",
       "      <td>...</td>\n",
       "      <td>...</td>\n",
       "    </tr>\n",
       "    <tr>\n",
       "      <th>3516</th>\n",
       "      <td>fear</td>\n",
       "      <td>[USERNAME] [USERNAME] Bcs doi w anak pelayaran...</td>\n",
       "    </tr>\n",
       "    <tr>\n",
       "      <th>3517</th>\n",
       "      <td>anger</td>\n",
       "      <td>Sekali , dua kali , tiga kali , lama2 bosan ju...</td>\n",
       "    </tr>\n",
       "    <tr>\n",
       "      <th>3518</th>\n",
       "      <td>anger</td>\n",
       "      <td>[USERNAME] [USERNAME] [USERNAME] [USERNAME] [U...</td>\n",
       "    </tr>\n",
       "    <tr>\n",
       "      <th>3519</th>\n",
       "      <td>fear</td>\n",
       "      <td>Aku takut tulisan ini terbaca di saat kamu ngg...</td>\n",
       "    </tr>\n",
       "    <tr>\n",
       "      <th>3520</th>\n",
       "      <td>happy</td>\n",
       "      <td>alhamdulilah tmksh tiara u to cantik dart ava oy</td>\n",
       "    </tr>\n",
       "  </tbody>\n",
       "</table>\n",
       "<p>3521 rows × 2 columns</p>\n",
       "</div>"
      ],
      "text/plain": [
       "     category                                              tweet\n",
       "0       happy  Ini adalah hal yang paling membahagiakan saat ...\n",
       "1       anger  [USERNAME] [USERNAME] Dari pertama [USERNAME] ...\n",
       "2        fear  yaudah kalo emang belum berani potong rambut p...\n",
       "3        fear  Jadi semalam, gw rekap, eh intinya yg gw usaha...\n",
       "4       anger  temen2 masa kecil yang turned out being asshol...\n",
       "...       ...                                                ...\n",
       "3516     fear  [USERNAME] [USERNAME] Bcs doi w anak pelayaran...\n",
       "3517    anger  Sekali , dua kali , tiga kali , lama2 bosan ju...\n",
       "3518    anger  [USERNAME] [USERNAME] [USERNAME] [USERNAME] [U...\n",
       "3519     fear  Aku takut tulisan ini terbaca di saat kamu ngg...\n",
       "3520    happy   alhamdulilah tmksh tiara u to cantik dart ava oy\n",
       "\n",
       "[3521 rows x 2 columns]"
      ]
     },
     "execution_count": 7,
     "metadata": {},
     "output_type": "execute_result"
    }
   ],
   "source": [
    "train_df"
   ]
  },
  {
   "cell_type": "markdown",
   "metadata": {},
   "source": [
    "# Buat Kategori Label untuk setiap Variabel"
   ]
  },
  {
   "cell_type": "code",
   "execution_count": 8,
   "metadata": {},
   "outputs": [
    {
     "name": "stdout",
     "output_type": "stream",
     "text": [
      "['happy', 'anger', 'fear', 'sadness', 'love'] ['anger', 'happy', 'fear', 'love', 'sadness'] ['love', 'fear', 'anger', 'happy', 'sadness']\n"
     ]
    }
   ],
   "source": [
    "# Kategori Label\n",
    "train_label = train_df['category'].unique().tolist()\n",
    "[s.strip() for s in train_label]\n",
    "val_label = val_df['category'].unique().tolist()\n",
    "[s.strip() for s in val_label]\n",
    "test_label = test_df['category'].unique().tolist()\n",
    "[s.strip() for s in test_label]\n",
    "\n",
    "print(train_label,val_label,test_label)"
   ]
  },
  {
   "cell_type": "code",
   "execution_count": 10,
   "metadata": {},
   "outputs": [],
   "source": [
    "label2id_train ={label:id for id, label in enumerate(train_label)}\n",
    "label2id_val ={label:id for id, label in enumerate(val_label)}\n",
    "label2id_test ={label:id for id, label in enumerate(test_label)}"
   ]
  },
  {
   "cell_type": "code",
   "execution_count": 15,
   "metadata": {},
   "outputs": [
    {
     "data": {
      "text/plain": [
       "{'happy': 0, 'anger': 1, 'fear': 2, 'sadness': 3, 'love': 4}"
      ]
     },
     "execution_count": 15,
     "metadata": {},
     "output_type": "execute_result"
    }
   ],
   "source": [
    "label2id_train"
   ]
  },
  {
   "cell_type": "code",
   "execution_count": 20,
   "metadata": {},
   "outputs": [
    {
     "data": {
      "text/plain": [
       "{'anger': 0, 'happy': 1, 'fear': 2, 'love': 3, 'sadness': 4}"
      ]
     },
     "execution_count": 20,
     "metadata": {},
     "output_type": "execute_result"
    }
   ],
   "source": [
    "label2id_val"
   ]
  },
  {
   "cell_type": "code",
   "execution_count": 21,
   "metadata": {},
   "outputs": [
    {
     "data": {
      "text/plain": [
       "{'love': 0, 'fear': 1, 'anger': 2, 'happy': 3, 'sadness': 4}"
      ]
     },
     "execution_count": 21,
     "metadata": {},
     "output_type": "execute_result"
    }
   ],
   "source": [
    "label2id_test"
   ]
  },
  {
   "cell_type": "code",
   "execution_count": 16,
   "metadata": {},
   "outputs": [],
   "source": [
    "train_df[\"label\"] = train_df.category.map(lambda x: label2id_train[x.strip()])\n",
    "val_df[\"label\"] = val_df.category.map(lambda x: label2id_val[x.strip()])\n",
    "test_df[\"label\"] = test_df.category.map(lambda x: label2id_test[x.strip()])\n"
   ]
  },
  {
   "cell_type": "code",
   "execution_count": 19,
   "metadata": {},
   "outputs": [
    {
     "data": {
      "text/html": [
       "<div>\n",
       "<style scoped>\n",
       "    .dataframe tbody tr th:only-of-type {\n",
       "        vertical-align: middle;\n",
       "    }\n",
       "\n",
       "    .dataframe tbody tr th {\n",
       "        vertical-align: top;\n",
       "    }\n",
       "\n",
       "    .dataframe thead th {\n",
       "        text-align: right;\n",
       "    }\n",
       "</style>\n",
       "<table border=\"1\" class=\"dataframe\">\n",
       "  <thead>\n",
       "    <tr style=\"text-align: right;\">\n",
       "      <th></th>\n",
       "      <th>category</th>\n",
       "      <th>tweet</th>\n",
       "      <th>label</th>\n",
       "    </tr>\n",
       "  </thead>\n",
       "  <tbody>\n",
       "    <tr>\n",
       "      <th>0</th>\n",
       "      <td>anger</td>\n",
       "      <td>[USERNAME] jaringannya mati ya? Tidak bisa dib...</td>\n",
       "      <td>0</td>\n",
       "    </tr>\n",
       "    <tr>\n",
       "      <th>1</th>\n",
       "      <td>anger</td>\n",
       "      <td>It's like a circle of stupidity. Atlit gak diu...</td>\n",
       "      <td>0</td>\n",
       "    </tr>\n",
       "    <tr>\n",
       "      <th>2</th>\n",
       "      <td>anger</td>\n",
       "      <td>[USERNAME] [USERNAME] [USERNAME] [USERNAME] [U...</td>\n",
       "      <td>0</td>\n",
       "    </tr>\n",
       "    <tr>\n",
       "      <th>3</th>\n",
       "      <td>happy</td>\n",
       "      <td>[USERNAME] Selamat Siang Sahabat Pos. Kiriman ...</td>\n",
       "      <td>1</td>\n",
       "    </tr>\n",
       "    <tr>\n",
       "      <th>4</th>\n",
       "      <td>happy</td>\n",
       "      <td>Di hari ini, yap tepat di tanggal 23 juli dima...</td>\n",
       "      <td>1</td>\n",
       "    </tr>\n",
       "    <tr>\n",
       "      <th>...</th>\n",
       "      <td>...</td>\n",
       "      <td>...</td>\n",
       "      <td>...</td>\n",
       "    </tr>\n",
       "    <tr>\n",
       "      <th>435</th>\n",
       "      <td>anger</td>\n",
       "      <td>[USERNAME] [USERNAME] Mekanisme pemilihan dire...</td>\n",
       "      <td>0</td>\n",
       "    </tr>\n",
       "    <tr>\n",
       "      <th>436</th>\n",
       "      <td>fear</td>\n",
       "      <td>Ngasih tehaer ke keponakan. Baju dua biji cela...</td>\n",
       "      <td>2</td>\n",
       "    </tr>\n",
       "    <tr>\n",
       "      <th>437</th>\n",
       "      <td>love</td>\n",
       "      <td>HAHAHA BODO AMAT DEEHHH YG PENTING DI VIDEO IN...</td>\n",
       "      <td>3</td>\n",
       "    </tr>\n",
       "    <tr>\n",
       "      <th>438</th>\n",
       "      <td>sadness</td>\n",
       "      <td>Langsung mewek baca thread ini, keren maksimal...</td>\n",
       "      <td>4</td>\n",
       "    </tr>\n",
       "    <tr>\n",
       "      <th>439</th>\n",
       "      <td>sadness</td>\n",
       "      <td>aku rasa hidup tanpa jiwa orang yang miskin at...</td>\n",
       "      <td>4</td>\n",
       "    </tr>\n",
       "  </tbody>\n",
       "</table>\n",
       "<p>440 rows × 3 columns</p>\n",
       "</div>"
      ],
      "text/plain": [
       "    category                                              tweet  label\n",
       "0      anger  [USERNAME] jaringannya mati ya? Tidak bisa dib...      0\n",
       "1      anger  It's like a circle of stupidity. Atlit gak diu...      0\n",
       "2      anger  [USERNAME] [USERNAME] [USERNAME] [USERNAME] [U...      0\n",
       "3      happy  [USERNAME] Selamat Siang Sahabat Pos. Kiriman ...      1\n",
       "4      happy  Di hari ini, yap tepat di tanggal 23 juli dima...      1\n",
       "..       ...                                                ...    ...\n",
       "435    anger  [USERNAME] [USERNAME] Mekanisme pemilihan dire...      0\n",
       "436     fear  Ngasih tehaer ke keponakan. Baju dua biji cela...      2\n",
       "437     love  HAHAHA BODO AMAT DEEHHH YG PENTING DI VIDEO IN...      3\n",
       "438  sadness  Langsung mewek baca thread ini, keren maksimal...      4\n",
       "439  sadness  aku rasa hidup tanpa jiwa orang yang miskin at...      4\n",
       "\n",
       "[440 rows x 3 columns]"
      ]
     },
     "execution_count": 19,
     "metadata": {},
     "output_type": "execute_result"
    }
   ],
   "source": [
    "val_df"
   ]
  },
  {
   "cell_type": "markdown",
   "metadata": {},
   "source": [
    "# Tokenizer"
   ]
  },
  {
   "cell_type": "code",
   "execution_count": 120,
   "metadata": {},
   "outputs": [
    {
     "name": "stderr",
     "output_type": "stream",
     "text": [
      "Downloading (…)okenizer_config.json: 100%|██████████| 42.0/42.0 [00:00<?, ?B/s]\n",
      "c:\\Users\\Rahmadyan\\Documents\\project\\Twitter_emotion\\env\\Lib\\site-packages\\huggingface_hub\\file_download.py:137: UserWarning: `huggingface_hub` cache-system uses symlinks by default to efficiently store duplicated files but your machine does not support them in C:\\Users\\Rahmadyan\\.cache\\huggingface\\hub. Caching files will still work but in a degraded version that might require more space on your disk. This warning can be disabled by setting the `HF_HUB_DISABLE_SYMLINKS_WARNING` environment variable. For more details, see https://huggingface.co/docs/huggingface_hub/how-to-cache#limitations.\n",
      "To support symlinks on Windows, you either need to activate Developer Mode or to run Python as an administrator. In order to see activate developer mode, see this article: https://docs.microsoft.com/en-us/windows/apps/get-started/enable-your-device-for-development\n",
      "  warnings.warn(message)\n",
      "Downloading (…)solve/main/vocab.txt: 100%|██████████| 234k/234k [00:00<00:00, 421kB/s]\n",
      "Downloading (…)in/added_tokens.json: 100%|██████████| 2.00/2.00 [00:00<?, ?B/s]\n",
      "Downloading (…)cial_tokens_map.json: 100%|██████████| 112/112 [00:00<00:00, 111kB/s]\n",
      "Downloading (…)lve/main/config.json: 100%|██████████| 1.01k/1.01k [00:00<00:00, 1.01MB/s]\n"
     ]
    },
    {
     "ename": "ImportError",
     "evalue": "\nBertForSequenceClassification requires the PyTorch library but it was not found in your environment. Checkout the instructions on the\ninstallation page: https://pytorch.org/get-started/locally/ and follow the ones that match your environment.\nPlease note that you may need to restart your runtime after installation.\n",
     "output_type": "error",
     "traceback": [
      "\u001b[1;31m---------------------------------------------------------------------------\u001b[0m",
      "\u001b[1;31mImportError\u001b[0m                               Traceback (most recent call last)",
      "\u001b[1;32mc:\\Users\\Rahmadyan\\Documents\\project\\Twitter_emotion\\emotion_detect.ipynb Cell 9\u001b[0m line \u001b[0;36m2\n\u001b[0;32m      <a href='vscode-notebook-cell:/c%3A/Users/Rahmadyan/Documents/project/Twitter_emotion/emotion_detect.ipynb#X44sZmlsZQ%3D%3D?line=0'>1</a>\u001b[0m tokenizer \u001b[39m=\u001b[39m BertTokenizerFast\u001b[39m.\u001b[39mfrom_pretrained(\u001b[39m\"\u001b[39m\u001b[39mindolem/indobert-base-uncased\u001b[39m\u001b[39m\"\u001b[39m)\n\u001b[1;32m----> <a href='vscode-notebook-cell:/c%3A/Users/Rahmadyan/Documents/project/Twitter_emotion/emotion_detect.ipynb#X44sZmlsZQ%3D%3D?line=1'>2</a>\u001b[0m model \u001b[39m=\u001b[39m BertForSequenceClassification\u001b[39m.\u001b[39;49mfrom_pretrained(\u001b[39m\"\u001b[39m\u001b[39mindolem/indobert-base-uncased\u001b[39m\u001b[39m\"\u001b[39m)\n\u001b[0;32m      <a href='vscode-notebook-cell:/c%3A/Users/Rahmadyan/Documents/project/Twitter_emotion/emotion_detect.ipynb#X44sZmlsZQ%3D%3D?line=2'>3</a>\u001b[0m model\u001b[39m.\u001b[39mto(device)\n",
      "File \u001b[1;32mc:\\Users\\Rahmadyan\\Documents\\project\\Twitter_emotion\\env\\Lib\\site-packages\\transformers\\utils\\import_utils.py:1124\u001b[0m, in \u001b[0;36mDummyObject.__getattribute__\u001b[1;34m(cls, key)\u001b[0m\n\u001b[0;32m   1122\u001b[0m \u001b[39mif\u001b[39;00m key\u001b[39m.\u001b[39mstartswith(\u001b[39m\"\u001b[39m\u001b[39m_\u001b[39m\u001b[39m\"\u001b[39m) \u001b[39mand\u001b[39;00m key \u001b[39m!=\u001b[39m \u001b[39m\"\u001b[39m\u001b[39m_from_config\u001b[39m\u001b[39m\"\u001b[39m:\n\u001b[0;32m   1123\u001b[0m     \u001b[39mreturn\u001b[39;00m \u001b[39msuper\u001b[39m()\u001b[39m.\u001b[39m\u001b[39m__getattribute__\u001b[39m(key)\n\u001b[1;32m-> 1124\u001b[0m requires_backends(\u001b[39mcls\u001b[39;49m, \u001b[39mcls\u001b[39;49m\u001b[39m.\u001b[39;49m_backends)\n",
      "File \u001b[1;32mc:\\Users\\Rahmadyan\\Documents\\project\\Twitter_emotion\\env\\Lib\\site-packages\\transformers\\utils\\import_utils.py:1112\u001b[0m, in \u001b[0;36mrequires_backends\u001b[1;34m(obj, backends)\u001b[0m\n\u001b[0;32m   1110\u001b[0m failed \u001b[39m=\u001b[39m [msg\u001b[39m.\u001b[39mformat(name) \u001b[39mfor\u001b[39;00m available, msg \u001b[39min\u001b[39;00m checks \u001b[39mif\u001b[39;00m \u001b[39mnot\u001b[39;00m available()]\n\u001b[0;32m   1111\u001b[0m \u001b[39mif\u001b[39;00m failed:\n\u001b[1;32m-> 1112\u001b[0m     \u001b[39mraise\u001b[39;00m \u001b[39mImportError\u001b[39;00m(\u001b[39m\"\u001b[39m\u001b[39m\"\u001b[39m\u001b[39m.\u001b[39mjoin(failed))\n",
      "\u001b[1;31mImportError\u001b[0m: \nBertForSequenceClassification requires the PyTorch library but it was not found in your environment. Checkout the instructions on the\ninstallation page: https://pytorch.org/get-started/locally/ and follow the ones that match your environment.\nPlease note that you may need to restart your runtime after installation.\n"
     ]
    }
   ],
   "source": [
    "tokenizer = BertTokenizerFast.from_pretrained(\"indolem/indobert-base-uncased\")\n",
    "model = BertForSequenceClassification.from_pretrained(\"indolem/indobert-base-uncased\")\n",
    "model.to(device)"
   ]
  },
  {
   "cell_type": "code",
   "execution_count": null,
   "metadata": {},
   "outputs": [],
   "source": [
    "import qrcode\n",
    " \n",
    "# Data to be encoded\n",
    "data = 'https://forms.gle/BX3MTPAieZteRGy78'\n",
    " \n",
    "# Encoding data using make() function\n",
    "img = qrcode.make(data)\n",
    " \n",
    "# Saving as an image file\n",
    "img.save('MyQRCode1.png')"
   ]
  }
 ],
 "metadata": {
  "kernelspec": {
   "display_name": "env",
   "language": "python",
   "name": "python3"
  },
  "language_info": {
   "codemirror_mode": {
    "name": "ipython",
    "version": 3
   },
   "file_extension": ".py",
   "mimetype": "text/x-python",
   "name": "python",
   "nbconvert_exporter": "python",
   "pygments_lexer": "ipython3",
   "version": "3.11.5"
  },
  "orig_nbformat": 4
 },
 "nbformat": 4,
 "nbformat_minor": 2
}
