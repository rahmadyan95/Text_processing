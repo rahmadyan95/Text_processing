{
 "cells": [
  {
   "cell_type": "code",
   "execution_count": 7,
   "metadata": {},
   "outputs": [],
   "source": [
    "import pandas as pd\n",
    "import matplotlib.pyplot as plt\n"
   ]
  },
  {
   "cell_type": "code",
   "execution_count": 8,
   "metadata": {},
   "outputs": [],
   "source": [
    "dataset_test = pd.DataFrame(pd.read_csv(\"./dataset/test_preprocess.csv\"))\n",
    "dataset_train = pd.DataFrame(pd.read_csv(\"./dataset/train_preprocess.csv\"))\n",
    "dataset_val = pd.DataFrame(pd.read_csv(\"./dataset/valid_preprocess.csv\"))\n"
   ]
  },
  {
   "cell_type": "code",
   "execution_count": 9,
   "metadata": {},
   "outputs": [
    {
     "data": {
      "text/html": [
       "<div>\n",
       "<style scoped>\n",
       "    .dataframe tbody tr th:only-of-type {\n",
       "        vertical-align: middle;\n",
       "    }\n",
       "\n",
       "    .dataframe tbody tr th {\n",
       "        vertical-align: top;\n",
       "    }\n",
       "\n",
       "    .dataframe thead th {\n",
       "        text-align: right;\n",
       "    }\n",
       "</style>\n",
       "<table border=\"1\" class=\"dataframe\">\n",
       "  <thead>\n",
       "    <tr style=\"text-align: right;\">\n",
       "      <th></th>\n",
       "      <th>label</th>\n",
       "      <th>tweet</th>\n",
       "    </tr>\n",
       "  </thead>\n",
       "  <tbody>\n",
       "    <tr>\n",
       "      <th>0</th>\n",
       "      <td>happy</td>\n",
       "      <td>Ini adalah hal yang paling membahagiakan saat ...</td>\n",
       "    </tr>\n",
       "    <tr>\n",
       "      <th>1</th>\n",
       "      <td>anger</td>\n",
       "      <td>[USERNAME] [USERNAME] Dari pertama [USERNAME] ...</td>\n",
       "    </tr>\n",
       "    <tr>\n",
       "      <th>2</th>\n",
       "      <td>fear</td>\n",
       "      <td>yaudah kalo emang belum berani potong rambut p...</td>\n",
       "    </tr>\n",
       "    <tr>\n",
       "      <th>3</th>\n",
       "      <td>fear</td>\n",
       "      <td>Jadi semalam, gw rekap, eh intinya yg gw usaha...</td>\n",
       "    </tr>\n",
       "    <tr>\n",
       "      <th>4</th>\n",
       "      <td>anger</td>\n",
       "      <td>temen2 masa kecil yang turned out being asshol...</td>\n",
       "    </tr>\n",
       "    <tr>\n",
       "      <th>...</th>\n",
       "      <td>...</td>\n",
       "      <td>...</td>\n",
       "    </tr>\n",
       "    <tr>\n",
       "      <th>3516</th>\n",
       "      <td>fear</td>\n",
       "      <td>[USERNAME] [USERNAME] Bcs doi w anak pelayaran...</td>\n",
       "    </tr>\n",
       "    <tr>\n",
       "      <th>3517</th>\n",
       "      <td>anger</td>\n",
       "      <td>Sekali , dua kali , tiga kali , lama2 bosan ju...</td>\n",
       "    </tr>\n",
       "    <tr>\n",
       "      <th>3518</th>\n",
       "      <td>anger</td>\n",
       "      <td>[USERNAME] [USERNAME] [USERNAME] [USERNAME] [U...</td>\n",
       "    </tr>\n",
       "    <tr>\n",
       "      <th>3519</th>\n",
       "      <td>fear</td>\n",
       "      <td>Aku takut tulisan ini terbaca di saat kamu ngg...</td>\n",
       "    </tr>\n",
       "    <tr>\n",
       "      <th>3520</th>\n",
       "      <td>happy</td>\n",
       "      <td>alhamdulilah tmksh tiara u to cantik dart ava oy</td>\n",
       "    </tr>\n",
       "  </tbody>\n",
       "</table>\n",
       "<p>3521 rows × 2 columns</p>\n",
       "</div>"
      ],
      "text/plain": [
       "      label                                              tweet\n",
       "0     happy  Ini adalah hal yang paling membahagiakan saat ...\n",
       "1     anger  [USERNAME] [USERNAME] Dari pertama [USERNAME] ...\n",
       "2      fear  yaudah kalo emang belum berani potong rambut p...\n",
       "3      fear  Jadi semalam, gw rekap, eh intinya yg gw usaha...\n",
       "4     anger  temen2 masa kecil yang turned out being asshol...\n",
       "...     ...                                                ...\n",
       "3516   fear  [USERNAME] [USERNAME] Bcs doi w anak pelayaran...\n",
       "3517  anger  Sekali , dua kali , tiga kali , lama2 bosan ju...\n",
       "3518  anger  [USERNAME] [USERNAME] [USERNAME] [USERNAME] [U...\n",
       "3519   fear  Aku takut tulisan ini terbaca di saat kamu ngg...\n",
       "3520  happy   alhamdulilah tmksh tiara u to cantik dart ava oy\n",
       "\n",
       "[3521 rows x 2 columns]"
      ]
     },
     "execution_count": 9,
     "metadata": {},
     "output_type": "execute_result"
    }
   ],
   "source": [
    "dataset_train"
   ]
  },
  {
   "cell_type": "code",
   "execution_count": 10,
   "metadata": {},
   "outputs": [
    {
     "data": {
      "text/html": [
       "<div>\n",
       "<style scoped>\n",
       "    .dataframe tbody tr th:only-of-type {\n",
       "        vertical-align: middle;\n",
       "    }\n",
       "\n",
       "    .dataframe tbody tr th {\n",
       "        vertical-align: top;\n",
       "    }\n",
       "\n",
       "    .dataframe thead th {\n",
       "        text-align: right;\n",
       "    }\n",
       "</style>\n",
       "<table border=\"1\" class=\"dataframe\">\n",
       "  <thead>\n",
       "    <tr style=\"text-align: right;\">\n",
       "      <th></th>\n",
       "      <th>label</th>\n",
       "      <th>tweet</th>\n",
       "    </tr>\n",
       "  </thead>\n",
       "  <tbody>\n",
       "    <tr>\n",
       "      <th>0</th>\n",
       "      <td>love</td>\n",
       "      <td>Pixy ini kok lama-lama gemesim yaaaa. Setelah ...</td>\n",
       "    </tr>\n",
       "    <tr>\n",
       "      <th>1</th>\n",
       "      <td>fear</td>\n",
       "      <td>Penyakit hepatitis B 100x lebih infeksius dari...</td>\n",
       "    </tr>\n",
       "    <tr>\n",
       "      <th>2</th>\n",
       "      <td>fear</td>\n",
       "      <td>[USERNAME] [USERNAME] [USERNAME] Gw lebih khaw...</td>\n",
       "    </tr>\n",
       "    <tr>\n",
       "      <th>3</th>\n",
       "      <td>anger</td>\n",
       "      <td>Kemerdekaan adalah hak segala bangsa ...( Kec ...</td>\n",
       "    </tr>\n",
       "    <tr>\n",
       "      <th>4</th>\n",
       "      <td>happy</td>\n",
       "      <td>Selamat pak [USERNAME] resmi jadi bapak, seked...</td>\n",
       "    </tr>\n",
       "    <tr>\n",
       "      <th>...</th>\n",
       "      <td>...</td>\n",
       "      <td>...</td>\n",
       "    </tr>\n",
       "    <tr>\n",
       "      <th>435</th>\n",
       "      <td>sadness</td>\n",
       "      <td>Ramadhan udah masuk hari yang ke-20 aja. tapi ...</td>\n",
       "    </tr>\n",
       "    <tr>\n",
       "      <th>436</th>\n",
       "      <td>sadness</td>\n",
       "      <td>kalo gue sik emang abis kehilangan seseorang y...</td>\n",
       "    </tr>\n",
       "    <tr>\n",
       "      <th>437</th>\n",
       "      <td>fear</td>\n",
       "      <td>aku dong malem ini checkup darah,, ok warning ...</td>\n",
       "    </tr>\n",
       "    <tr>\n",
       "      <th>438</th>\n",
       "      <td>anger</td>\n",
       "      <td>Dan besok musti pagi2 tangsel-bogor.. Dan (lag...</td>\n",
       "    </tr>\n",
       "    <tr>\n",
       "      <th>439</th>\n",
       "      <td>happy</td>\n",
       "      <td>Pelayaran Aman, Selamat, Tertib dan Nyaman Pas...</td>\n",
       "    </tr>\n",
       "  </tbody>\n",
       "</table>\n",
       "<p>440 rows × 2 columns</p>\n",
       "</div>"
      ],
      "text/plain": [
       "       label                                              tweet\n",
       "0       love  Pixy ini kok lama-lama gemesim yaaaa. Setelah ...\n",
       "1       fear  Penyakit hepatitis B 100x lebih infeksius dari...\n",
       "2       fear  [USERNAME] [USERNAME] [USERNAME] Gw lebih khaw...\n",
       "3      anger  Kemerdekaan adalah hak segala bangsa ...( Kec ...\n",
       "4      happy  Selamat pak [USERNAME] resmi jadi bapak, seked...\n",
       "..       ...                                                ...\n",
       "435  sadness  Ramadhan udah masuk hari yang ke-20 aja. tapi ...\n",
       "436  sadness  kalo gue sik emang abis kehilangan seseorang y...\n",
       "437     fear  aku dong malem ini checkup darah,, ok warning ...\n",
       "438    anger  Dan besok musti pagi2 tangsel-bogor.. Dan (lag...\n",
       "439    happy  Pelayaran Aman, Selamat, Tertib dan Nyaman Pas...\n",
       "\n",
       "[440 rows x 2 columns]"
      ]
     },
     "execution_count": 10,
     "metadata": {},
     "output_type": "execute_result"
    }
   ],
   "source": [
    "dataset_test"
   ]
  },
  {
   "cell_type": "code",
   "execution_count": 11,
   "metadata": {},
   "outputs": [
    {
     "data": {
      "text/html": [
       "<div>\n",
       "<style scoped>\n",
       "    .dataframe tbody tr th:only-of-type {\n",
       "        vertical-align: middle;\n",
       "    }\n",
       "\n",
       "    .dataframe tbody tr th {\n",
       "        vertical-align: top;\n",
       "    }\n",
       "\n",
       "    .dataframe thead th {\n",
       "        text-align: right;\n",
       "    }\n",
       "</style>\n",
       "<table border=\"1\" class=\"dataframe\">\n",
       "  <thead>\n",
       "    <tr style=\"text-align: right;\">\n",
       "      <th></th>\n",
       "      <th>label</th>\n",
       "      <th>tweet</th>\n",
       "    </tr>\n",
       "  </thead>\n",
       "  <tbody>\n",
       "    <tr>\n",
       "      <th>0</th>\n",
       "      <td>anger</td>\n",
       "      <td>[USERNAME] jaringannya mati ya? Tidak bisa dib...</td>\n",
       "    </tr>\n",
       "    <tr>\n",
       "      <th>1</th>\n",
       "      <td>anger</td>\n",
       "      <td>It's like a circle of stupidity. Atlit gak diu...</td>\n",
       "    </tr>\n",
       "    <tr>\n",
       "      <th>2</th>\n",
       "      <td>anger</td>\n",
       "      <td>[USERNAME] [USERNAME] [USERNAME] [USERNAME] [U...</td>\n",
       "    </tr>\n",
       "    <tr>\n",
       "      <th>3</th>\n",
       "      <td>happy</td>\n",
       "      <td>[USERNAME] Selamat Siang Sahabat Pos. Kiriman ...</td>\n",
       "    </tr>\n",
       "    <tr>\n",
       "      <th>4</th>\n",
       "      <td>happy</td>\n",
       "      <td>Di hari ini, yap tepat di tanggal 23 juli dima...</td>\n",
       "    </tr>\n",
       "    <tr>\n",
       "      <th>...</th>\n",
       "      <td>...</td>\n",
       "      <td>...</td>\n",
       "    </tr>\n",
       "    <tr>\n",
       "      <th>435</th>\n",
       "      <td>anger</td>\n",
       "      <td>[USERNAME] [USERNAME] Mekanisme pemilihan dire...</td>\n",
       "    </tr>\n",
       "    <tr>\n",
       "      <th>436</th>\n",
       "      <td>fear</td>\n",
       "      <td>Ngasih tehaer ke keponakan. Baju dua biji cela...</td>\n",
       "    </tr>\n",
       "    <tr>\n",
       "      <th>437</th>\n",
       "      <td>love</td>\n",
       "      <td>HAHAHA BODO AMAT DEEHHH YG PENTING DI VIDEO IN...</td>\n",
       "    </tr>\n",
       "    <tr>\n",
       "      <th>438</th>\n",
       "      <td>sadness</td>\n",
       "      <td>Langsung mewek baca thread ini, keren maksimal...</td>\n",
       "    </tr>\n",
       "    <tr>\n",
       "      <th>439</th>\n",
       "      <td>sadness</td>\n",
       "      <td>aku rasa hidup tanpa jiwa orang yang miskin at...</td>\n",
       "    </tr>\n",
       "  </tbody>\n",
       "</table>\n",
       "<p>440 rows × 2 columns</p>\n",
       "</div>"
      ],
      "text/plain": [
       "       label                                              tweet\n",
       "0      anger  [USERNAME] jaringannya mati ya? Tidak bisa dib...\n",
       "1      anger  It's like a circle of stupidity. Atlit gak diu...\n",
       "2      anger  [USERNAME] [USERNAME] [USERNAME] [USERNAME] [U...\n",
       "3      happy  [USERNAME] Selamat Siang Sahabat Pos. Kiriman ...\n",
       "4      happy  Di hari ini, yap tepat di tanggal 23 juli dima...\n",
       "..       ...                                                ...\n",
       "435    anger  [USERNAME] [USERNAME] Mekanisme pemilihan dire...\n",
       "436     fear  Ngasih tehaer ke keponakan. Baju dua biji cela...\n",
       "437     love  HAHAHA BODO AMAT DEEHHH YG PENTING DI VIDEO IN...\n",
       "438  sadness  Langsung mewek baca thread ini, keren maksimal...\n",
       "439  sadness  aku rasa hidup tanpa jiwa orang yang miskin at...\n",
       "\n",
       "[440 rows x 2 columns]"
      ]
     },
     "execution_count": 11,
     "metadata": {},
     "output_type": "execute_result"
    }
   ],
   "source": [
    "dataset_val"
   ]
  },
  {
   "cell_type": "code",
   "execution_count": 83,
   "metadata": {},
   "outputs": [
    {
     "name": "stdout",
     "output_type": "stream",
     "text": [
      "====================================\n",
      "Keterangan Train\n",
      "====================================\n",
      "<class 'pandas.core.frame.DataFrame'>\n",
      "RangeIndex: 3521 entries, 0 to 3520\n",
      "Data columns (total 2 columns):\n",
      " #   Column  Non-Null Count  Dtype \n",
      "---  ------  --------------  ----- \n",
      " 0   label   3521 non-null   object\n",
      " 1   tweet   3521 non-null   object\n",
      "dtypes: object(2)\n",
      "memory usage: 55.1+ KB\n",
      "None\n",
      "====================================\n",
      "Keterangan Test\n",
      "====================================\n",
      "<class 'pandas.core.frame.DataFrame'>\n",
      "RangeIndex: 440 entries, 0 to 439\n",
      "Data columns (total 2 columns):\n",
      " #   Column  Non-Null Count  Dtype \n",
      "---  ------  --------------  ----- \n",
      " 0   label   440 non-null    object\n",
      " 1   tweet   440 non-null    object\n",
      "dtypes: object(2)\n",
      "memory usage: 7.0+ KB\n",
      "None\n",
      "====================================\n"
     ]
    }
   ],
   "source": [
    "print(\"====================================\")\n",
    "print(\"Keterangan Train\")\n",
    "print(\"====================================\")\n",
    "print(f'{dataset_train.info()}')\n",
    "print(\"====================================\")\n",
    "print(\"Keterangan Test\")\n",
    "print(\"====================================\")\n",
    "print(f'{dataset_test.info()}')\n",
    "print(\"====================================\")\n"
   ]
  },
  {
   "cell_type": "code",
   "execution_count": 84,
   "metadata": {},
   "outputs": [
    {
     "name": "stdout",
     "output_type": "stream",
     "text": [
      "Keterangan Validation\n",
      "====================================\n",
      "<class 'pandas.core.frame.DataFrame'>\n",
      "RangeIndex: 440 entries, 0 to 439\n",
      "Data columns (total 2 columns):\n",
      " #   Column  Non-Null Count  Dtype \n",
      "---  ------  --------------  ----- \n",
      " 0   label   440 non-null    object\n",
      " 1   tweet   440 non-null    object\n",
      "dtypes: object(2)\n",
      "memory usage: 7.0+ KB\n",
      "None\n",
      "====================================\n"
     ]
    }
   ],
   "source": [
    "print(\"====================================\")\n",
    "print(\"Keterangan Validation\")\n",
    "print(\"====================================\")\n",
    "print(f'{dataset_val.info()}')\n",
    "print(\"====================================\")"
   ]
  },
  {
   "cell_type": "code",
   "execution_count": 18,
   "metadata": {},
   "outputs": [
    {
     "name": "stdout",
     "output_type": "stream",
     "text": [
      "Label train dataset         = ['happy', 'anger', 'fear', 'sadness', 'love']\n",
      "Label Validation dataset    = ['anger', 'happy', 'fear', 'love', 'sadness']\n",
      "label test dataset          = ['love', 'fear', 'anger', 'happy', 'sadness']\n"
     ]
    }
   ],
   "source": [
    "# Label \n",
    "\n",
    "train_label = dataset_train['label'].unique().tolist()\n",
    "[s.strip() for s in train_label]\n",
    "val_label = dataset_val['label'].unique().tolist()\n",
    "[s.strip() for s in val_label]\n",
    "test_label = dataset_test['label'].unique().tolist()\n",
    "[s.strip() for s in test_label]\n",
    "\n",
    "print(f'''Label train dataset         = {train_label}\n",
    "Label Validation dataset    = {val_label}\n",
    "label test dataset          = {test_label}''')"
   ]
  },
  {
   "cell_type": "code",
   "execution_count": 45,
   "metadata": {},
   "outputs": [
    {
     "name": "stdout",
     "output_type": "stream",
     "text": [
      "Dataset train  :\n",
      "label\n",
      "anger      881\n",
      "happy      814\n",
      "sadness    798\n",
      "fear       519\n",
      "love       509\n",
      "Name: count, dtype: int64\n",
      "=============================\n",
      "Dataset Test:\n",
      "label\n",
      "anger      110\n",
      "happy      101\n",
      "sadness    100\n",
      "fear        65\n",
      "love        64\n",
      "Name: count, dtype: int64\n",
      "=============================\n",
      "Dataset Valid:\n",
      "label\n",
      "anger      110\n",
      "happy      102\n",
      "sadness     99\n",
      "fear        65\n",
      "love        64\n",
      "Name: count, dtype: int64\n"
     ]
    }
   ],
   "source": [
    "# menghitung banyak dataset setiap label dari train dataset \n",
    "\n",
    "totalLabelTest = dataset_test['label'].value_counts()\n",
    "totalLabelTrain = dataset_train['label'].value_counts()\n",
    "totalLabelValid = dataset_val['label'].value_counts()\n",
    "\n",
    "print(f'''Dataset train  :\n",
    "{totalLabelTrain}\n",
    "=============================\n",
    "Dataset Test:\n",
    "{totalLabelTest}\n",
    "=============================\n",
    "Dataset Valid:\n",
    "{totalLabelValid}''')\n",
    "\n"
   ]
  },
  {
   "cell_type": "code",
   "execution_count": 53,
   "metadata": {},
   "outputs": [
    {
     "data": {
      "text/plain": [
       "Text(0, 0.5, 'Jumlah Dataset')"
      ]
     },
     "execution_count": 53,
     "metadata": {},
     "output_type": "execute_result"
    },
    {
     "data": {
      "image/png": "[encoded data removed]",
      "text/plain": [
       "<Figure size 1000x600 with 1 Axes>"
      ]
     },
     "metadata": {},
     "output_type": "display_data"
    }
   ],
   "source": [
    "# Train Dataset\n",
    "\n",
    "plt.figure(figsize=(10, 6))  # Ukuran plot\n",
    "\n",
    "plt.title(\"Total Dataset Train, per-Label \")\n",
    "train = plt.bar(totalLabelTrain.index, totalLabelTrain.values, color='green', alpha=0.5, label='Train Data')\n",
    "for bar in train:\n",
    "    height = bar.get_height()\n",
    "    plt.annotate(f'{height}',\n",
    "                 xy=(bar.get_x() + bar.get_width() / 2, height),\n",
    "                 xytext=(0, 3), \n",
    "                 textcoords='offset points',\n",
    "                 ha='center', va='bottom')\n",
    "    \n",
    "plt.xlabel(\"label\")\n",
    "plt.ylabel('Jumlah Dataset')"
   ]
  },
  {
   "cell_type": "code",
   "execution_count": 59,
   "metadata": {},
   "outputs": [
    {
     "data": {
      "image/png": "[encoded data removed]",
      "text/plain": [
       "<Figure size 1000x600 with 1 Axes>"
      ]
     },
     "metadata": {},
     "output_type": "display_data"
    }
   ],
   "source": [
    "plt.figure(figsize=(10,6))\n",
    "test = plt.bar(totalLabelTest.index, totalLabelTest.values, color='blue', alpha=0.5, label='Test Data')\n",
    "for bar in test:\n",
    "    height = bar.get_height()\n",
    "    plt.annotate(f'{height}',\n",
    "                 xy=(bar.get_x() + bar.get_width() / 2, height),\n",
    "                 xytext=(0, 3), \n",
    "                 textcoords='offset points',\n",
    "                 ha='center', va='bottom')\n",
    "    \n",
    "plt.xlabel(\"label\")\n",
    "plt.ylabel('Jumlah Dataset')\n",
    "plt.show()"
   ]
  },
  {
   "cell_type": "code",
   "execution_count": 55,
   "metadata": {},
   "outputs": [
    {
     "data": {
      "image/png": "[encoded data removed]",
      "text/plain": [
       "<Figure size 1000x600 with 1 Axes>"
      ]
     },
     "metadata": {},
     "output_type": "display_data"
    }
   ],
   "source": [
    "plt.figure(figsize=(10, 6))\n",
    "\n",
    "\n",
    "plt.title('Total Data Validation per-variable')\n",
    "validation = plt.bar(totalLabelValid.index, totalLabelValid.values, color='red', alpha=0.5, label='Validation Data')\n",
    "\n",
    "for bar in validation:\n",
    "    height = bar.get_height()\n",
    "    plt.annotate(f'{height}',\n",
    "                 xy=(bar.get_x() + bar.get_width() / 2, height),\n",
    "                 xytext=(0, 3), \n",
    "                 textcoords='offset points',\n",
    "                 ha='center', va='bottom')\n",
    "    \n",
    "plt.xlabel(\"label\")\n",
    "plt.ylabel('Jumlah Dataset')\n",
    "plt.show()"
   ]
  },
  {
   "cell_type": "code",
   "execution_count": null,
   "metadata": {},
   "outputs": [],
   "source": []
  }
 ],
 "metadata": {
  "kernelspec": {
   "display_name": "env",
   "language": "python",
   "name": "python3"
  },
  "language_info": {
   "codemirror_mode": {
    "name": "ipython",
    "version": 3
   },
   "file_extension": ".py",
   "mimetype": "text/x-python",
   "name": "python",
   "nbconvert_exporter": "python",
   "pygments_lexer": "ipython3",
   "version": "3.11.5"
  },
  "orig_nbformat": 4
 },
 "nbformat": 4,
 "nbformat_minor": 2
}
